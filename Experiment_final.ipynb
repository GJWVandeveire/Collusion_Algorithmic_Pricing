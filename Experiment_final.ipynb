{
 "cells": [
  {
   "cell_type": "markdown",
   "metadata": {},
   "source": [
    "### Prepare experiment"
   ]
  },
  {
   "cell_type": "code",
   "execution_count": 1,
   "metadata": {},
   "outputs": [],
   "source": [
    "import numpy as np\n",
    "import random\n",
    "\n",
    "# load final q-table\n",
    "q_table = np.load('final_q_table.npy')"
   ]
  },
  {
   "cell_type": "code",
   "execution_count": 2,
   "metadata": {},
   "outputs": [],
   "source": [
    "# create function with best response output\n",
    "\n",
    "def experiment(player_price, state):\n",
    "        \n",
    "    #algorithm\n",
    "    algo_action = np.argmax(q_table[state]) # choose action based on previous state\n",
    "    algo_price = algo_action + 6 # calculate price based on action\n",
    "    algo_profit = algo_price*(15 - (2*algo_price) + (1.5*player_price)) # calculate profit based on demand function\n",
    "    \n",
    "    #player\n",
    "    player_q = 15 - (2*player_price) + (1.5*algo_price) # demand function\n",
    "    player_profit =  player_price*player_q # profit based on demand function\n",
    "    \n",
    "    # add to list of profits\n",
    "    algo_profits.append(algo_profit)\n",
    "    player_profits.append(player_profit)\n",
    "    \n",
    "    # add to list of going prices\n",
    "    player_prices.append(player_price)\n",
    "    algo_prices.append(algo_price)\n",
    "    \n",
    "    # calculate total profits\n",
    "    total_profit_algo = np.sum(algo_profits)\n",
    "    total_profit_player = np.sum(player_profits)\n",
    "    \n",
    "    #determine next state\n",
    "    if algo_price == 6 and player_price == 6:\n",
    "        state = 0\n",
    "    elif algo_price == 6 and player_price == 7:\n",
    "        state = 1\n",
    "    elif algo_price == 6 and player_price == 8:\n",
    "        state = 2\n",
    "    elif algo_price == 7 and player_price == 6:\n",
    "        state = 3\n",
    "    elif algo_price == 7 and player_price == 7:\n",
    "        state = 4\n",
    "    elif algo_price == 7 and player_price == 8:\n",
    "        state = 5\n",
    "    elif algo_price == 8 and player_price == 6:\n",
    "        state = 6\n",
    "    elif algo_price == 8 and player_price == 7:\n",
    "        state = 7\n",
    "    elif algo_price == 8 and player_price == 8:\n",
    "        state = 8\n",
    "\n",
    "    return  print('You sold {} kg at {} euro/kg.\\n \\nThis round: \\nYour price: {} | Competitor price: {} \\nYour profit: {} | Competitor profit: {}\\n \\nTotal: \\nYour total profit: {} | Competitor total profit: {} \\n\\nFill in the following state in the next round like this: Experiment(*your price*, {})'.format(player_q, player_price, player_price, algo_price, player_profit, algo_profit, total_profit_player, total_profit_algo, state))"
   ]
  },
  {
   "cell_type": "code",
   "execution_count": 3,
   "metadata": {},
   "outputs": [],
   "source": [
    "def final_results():\n",
    "    print('Your prices: {}'.format(player_prices))\n",
    "    print('Your profit: {}'.format(player_profits))\n",
    "    print('Competitor prices: {}'.format(algo_prices))\n",
    "    print('Competitor profits: {}'.format(algo_profits))"
   ]
  },
  {
   "cell_type": "markdown",
   "metadata": {},
   "source": [
    "### Explanation experiment"
   ]
  },
  {
   "cell_type": "markdown",
   "metadata": {},
   "source": [
    "*Code of conduct*\n",
    "\n",
    "Thank you for participating in this experiment. This study is conducted by Gert Vandeveire, under leading supervision of Cedric Argenton, and commissioned by Tilburg University. All data will be stored anonymously and used for this research only.\n",
    "\n",
    "By continuing with this experiment, you comply with the following statements:\n",
    "1. I agree to participate in this experiment voluntarily.\n",
    "2. I give permission to the researcher to store and analyze my data anonymously.\n",
    "3. I am aware that I can stop this research at any given time.\n",
    "\n",
    "Type \"yes\" in the box below if you have read and agreed with the statements above."
   ]
  },
  {
   "cell_type": "raw",
   "metadata": {},
   "source": []
  },
  {
   "cell_type": "markdown",
   "metadata": {},
   "source": [
    "*Explanation*\n",
    "\n",
    "In this experiment you will participate in a market as a supplier of a good. The market consists of 2 suppliers: you and a competitor based on an algorithm.\n",
    "\n",
    "The experiments consists of 20 rounds. During every round, you will be given the option to choose one of three prices: 6 euros, 7 euros or 8 euros. The system will return the following info after every round:\n",
    "- Your price\n",
    "- Your competitor's price\n",
    "- Your profit\n",
    "- Your competitor's profit\n",
    "\n",
    "Your goal is to **maximize your profit** over 20 rounds. Your total profit will be added to the leaderboard anonymously (e.g.: \"participant 23\"). Each player's profit will depend on both player's prices. The demand curves are known: $q_1 = 15 - 2p_1 + 1.5p_2$ <br>\n",
    "$q_2 = 15 - 2p_2 + 1.5p_1$.\n",
    "\n",
    "For your convenience, your profits for every combined choice below are presented below (y-axis: your price; x-axis: the competitor's price). You can scroll up and access this matrix at all times during the experiment. Keep in mind that the competitor will also try to maximize its profit (with the same payoffs), based on the information given.\n",
    "\n",
    "payoff matrix|6|7|8\n",
    "-|-|-|-\n",
    "your price = 6|72|81|90\n",
    "7|70|80.5|91\n",
    "8|64|76|88\n",
    "\n",
    "To choose a price, type \"6\", \"7\" or \"8\" between the brackets in \"Experiment()\", followed by the previous state as mentioned in the feedback. You can find an example below."
   ]
  },
  {
   "cell_type": "code",
   "execution_count": 4,
   "metadata": {},
   "outputs": [
    {
     "name": "stdout",
     "output_type": "stream",
     "text": [
      "\n",
      "Fill in the following state in the next round like this: Experiment(*your price*, 8)\n"
     ]
    }
   ],
   "source": [
    "# run this code to reset the experiment\n",
    "\n",
    "# initialize random start state\n",
    "state = random.randint(0,8)\n",
    "\n",
    "# placeholder for profits\n",
    "player_profits = []\n",
    "algo_profits = []\n",
    "\n",
    "# placeholder for prices\n",
    "player_prices = []\n",
    "algo_prices = []\n",
    "\n",
    "# print start state\n",
    "print('\\nFill in the following state in the next round like this: Experiment(*your price*, {})'.format(state))"
   ]
  },
  {
   "cell_type": "code",
   "execution_count": 5,
   "metadata": {
    "scrolled": true
   },
   "outputs": [
    {
     "name": "stdout",
     "output_type": "stream",
     "text": [
      "You sold 15.0 kg at 6 euro/kg.\n",
      " \n",
      "This round: \n",
      "Your price: 6 | Competitor price: 8 \n",
      "Your profit: 90.0 | Competitor profit: 64.0\n",
      " \n",
      "Total: \n",
      "Your total profit: 90.0 | Competitor total profit: 64.0 \n",
      "\n",
      "Fill in the following state in the next round like this: Experiment(*your price*, 6)\n"
     ]
    }
   ],
   "source": [
    "experiment(6,8)"
   ]
  },
  {
   "cell_type": "code",
   "execution_count": 6,
   "metadata": {},
   "outputs": [
    {
     "name": "stdout",
     "output_type": "stream",
     "text": [
      "You sold 11.5 kg at 7 euro/kg.\n",
      " \n",
      "This round: \n",
      "Your price: 7 | Competitor price: 7 \n",
      "Your profit: 80.5 | Competitor profit: 80.5\n",
      " \n",
      "Total: \n",
      "Your total profit: 170.5 | Competitor total profit: 144.5 \n",
      "\n",
      "Fill in the following state in the next round like this: Experiment(*your price*, 4)\n"
     ]
    }
   ],
   "source": [
    "experiment(7,6)"
   ]
  },
  {
   "cell_type": "code",
   "execution_count": 7,
   "metadata": {},
   "outputs": [
    {
     "name": "stdout",
     "output_type": "stream",
     "text": [
      "You sold 9.5 kg at 8 euro/kg.\n",
      " \n",
      "This round: \n",
      "Your price: 8 | Competitor price: 7 \n",
      "Your profit: 76.0 | Competitor profit: 91.0\n",
      " \n",
      "Total: \n",
      "Your total profit: 246.5 | Competitor total profit: 235.5 \n",
      "\n",
      "Fill in the following state in the next round like this: Experiment(*your price*, 5)\n"
     ]
    }
   ],
   "source": [
    "experiment(8,4)"
   ]
  },
  {
   "cell_type": "code",
   "execution_count": 8,
   "metadata": {},
   "outputs": [
    {
     "name": "stdout",
     "output_type": "stream",
     "text": [
      "Your prices: [6, 7, 8]\n",
      "Your profit: [90.0, 80.5, 76.0]\n",
      "Competitor prices: [8, 7, 7]\n",
      "Competitor profits: [64.0, 80.5, 91.0]\n"
     ]
    }
   ],
   "source": [
    "final_results()"
   ]
  },
  {
   "cell_type": "markdown",
   "metadata": {},
   "source": [
    "### Start experiment"
   ]
  },
  {
   "cell_type": "markdown",
   "metadata": {},
   "source": [
    "payoff matrix|6|7|8\n",
    "-|-|-|-\n",
    "your price = 6|72|81|90\n",
    "7|70|80.5|91\n",
    "8|64|76|88"
   ]
  },
  {
   "cell_type": "code",
   "execution_count": null,
   "metadata": {},
   "outputs": [],
   "source": [
    "# run this code to reset the experiment\n",
    "\n",
    "# initialize random start state\n",
    "state = random.randint(0,8)\n",
    "\n",
    "# placeholder for profits\n",
    "player_profits = []\n",
    "algo_profits = []\n",
    "\n",
    "# placeholder for prices\n",
    "player_prices = []\n",
    "algo_prices = []\n",
    "\n",
    "# print start state\n",
    "print('\\nFill in the following state in the next round like this: Experiment(*your price*, {})'.format(state))"
   ]
  },
  {
   "cell_type": "markdown",
   "metadata": {},
   "source": [
    "Round 1"
   ]
  },
  {
   "cell_type": "code",
   "execution_count": null,
   "metadata": {
    "scrolled": true
   },
   "outputs": [],
   "source": [
    "experiment()"
   ]
  },
  {
   "cell_type": "markdown",
   "metadata": {},
   "source": [
    "Round 2"
   ]
  },
  {
   "cell_type": "code",
   "execution_count": null,
   "metadata": {},
   "outputs": [],
   "source": [
    "experiment()"
   ]
  },
  {
   "cell_type": "markdown",
   "metadata": {},
   "source": [
    "Round 3"
   ]
  },
  {
   "cell_type": "code",
   "execution_count": null,
   "metadata": {},
   "outputs": [],
   "source": [
    "experiment()"
   ]
  },
  {
   "cell_type": "markdown",
   "metadata": {},
   "source": [
    "Round 4"
   ]
  },
  {
   "cell_type": "code",
   "execution_count": null,
   "metadata": {},
   "outputs": [],
   "source": [
    "experiment()"
   ]
  },
  {
   "cell_type": "markdown",
   "metadata": {},
   "source": [
    "Round 5"
   ]
  },
  {
   "cell_type": "code",
   "execution_count": null,
   "metadata": {},
   "outputs": [],
   "source": [
    "experiment()"
   ]
  },
  {
   "cell_type": "markdown",
   "metadata": {},
   "source": [
    "Round 6"
   ]
  },
  {
   "cell_type": "code",
   "execution_count": null,
   "metadata": {},
   "outputs": [],
   "source": [
    "experiment()"
   ]
  },
  {
   "cell_type": "markdown",
   "metadata": {},
   "source": [
    "Round 7"
   ]
  },
  {
   "cell_type": "code",
   "execution_count": null,
   "metadata": {},
   "outputs": [],
   "source": [
    "experiment()"
   ]
  },
  {
   "cell_type": "markdown",
   "metadata": {},
   "source": [
    "Round 8"
   ]
  },
  {
   "cell_type": "code",
   "execution_count": null,
   "metadata": {},
   "outputs": [],
   "source": [
    "experiment()"
   ]
  },
  {
   "cell_type": "markdown",
   "metadata": {},
   "source": [
    "Round 9"
   ]
  },
  {
   "cell_type": "code",
   "execution_count": null,
   "metadata": {},
   "outputs": [],
   "source": [
    "experiment()"
   ]
  },
  {
   "cell_type": "markdown",
   "metadata": {},
   "source": [
    "Round 10"
   ]
  },
  {
   "cell_type": "code",
   "execution_count": null,
   "metadata": {},
   "outputs": [],
   "source": [
    "experiment()"
   ]
  },
  {
   "cell_type": "markdown",
   "metadata": {},
   "source": [
    "You have finished 10 rounds, another 10 rounds to go. The payoff matrix remains the same:\n",
    "\n",
    "payoff matrix|6|7|8\n",
    "-|-|-|-\n",
    "your price = 6|72|81|90\n",
    "7|70|80.5|91\n",
    "8|64|76|88"
   ]
  },
  {
   "cell_type": "markdown",
   "metadata": {},
   "source": [
    "Round 11"
   ]
  },
  {
   "cell_type": "code",
   "execution_count": null,
   "metadata": {},
   "outputs": [],
   "source": [
    "experiment()"
   ]
  },
  {
   "cell_type": "markdown",
   "metadata": {},
   "source": [
    "Round 12"
   ]
  },
  {
   "cell_type": "code",
   "execution_count": null,
   "metadata": {},
   "outputs": [],
   "source": [
    "experiment()"
   ]
  },
  {
   "cell_type": "markdown",
   "metadata": {},
   "source": [
    "Round 13"
   ]
  },
  {
   "cell_type": "code",
   "execution_count": null,
   "metadata": {},
   "outputs": [],
   "source": [
    "experiment()"
   ]
  },
  {
   "cell_type": "markdown",
   "metadata": {},
   "source": [
    "Round 14"
   ]
  },
  {
   "cell_type": "code",
   "execution_count": null,
   "metadata": {},
   "outputs": [],
   "source": [
    "experiment()"
   ]
  },
  {
   "cell_type": "markdown",
   "metadata": {},
   "source": [
    "Round 15"
   ]
  },
  {
   "cell_type": "code",
   "execution_count": null,
   "metadata": {},
   "outputs": [],
   "source": [
    "experiment()"
   ]
  },
  {
   "cell_type": "markdown",
   "metadata": {},
   "source": [
    "Round 16"
   ]
  },
  {
   "cell_type": "code",
   "execution_count": null,
   "metadata": {},
   "outputs": [],
   "source": [
    "experiment()"
   ]
  },
  {
   "cell_type": "markdown",
   "metadata": {},
   "source": [
    "Round 17"
   ]
  },
  {
   "cell_type": "code",
   "execution_count": null,
   "metadata": {},
   "outputs": [],
   "source": [
    "experiment()"
   ]
  },
  {
   "cell_type": "markdown",
   "metadata": {},
   "source": [
    "Round 18"
   ]
  },
  {
   "cell_type": "code",
   "execution_count": null,
   "metadata": {},
   "outputs": [],
   "source": [
    "experiment()"
   ]
  },
  {
   "cell_type": "markdown",
   "metadata": {},
   "source": [
    "Round 19"
   ]
  },
  {
   "cell_type": "code",
   "execution_count": null,
   "metadata": {},
   "outputs": [],
   "source": [
    "experiment()"
   ]
  },
  {
   "cell_type": "markdown",
   "metadata": {},
   "source": [
    "Round 20"
   ]
  },
  {
   "cell_type": "code",
   "execution_count": null,
   "metadata": {},
   "outputs": [],
   "source": [
    "experiment()"
   ]
  },
  {
   "cell_type": "markdown",
   "metadata": {},
   "source": [
    "Run the following code without changing anything:"
   ]
  },
  {
   "cell_type": "code",
   "execution_count": null,
   "metadata": {},
   "outputs": [],
   "source": [
    "final_results()"
   ]
  },
  {
   "cell_type": "markdown",
   "metadata": {},
   "source": [
    "To conclude, please fill in the following questions:"
   ]
  },
  {
   "cell_type": "markdown",
   "metadata": {},
   "source": [
    "1. What is your age?"
   ]
  },
  {
   "cell_type": "raw",
   "metadata": {},
   "source": []
  },
  {
   "cell_type": "markdown",
   "metadata": {},
   "source": [
    "2. What is your gender? (Choose one of the following: Male - Female - Non-binary - Prefer not to say)"
   ]
  },
  {
   "cell_type": "raw",
   "metadata": {},
   "source": []
  },
  {
   "cell_type": "markdown",
   "metadata": {},
   "source": [
    "3. What is the highest achieved level of education you have completed? <br> (Choose one of the following: None - Secondary (high school) - Some college - Associate's Degree - Bachelor's Degree - Master's Degree - PhD)"
   ]
  },
  {
   "cell_type": "raw",
   "metadata": {},
   "source": []
  },
  {
   "cell_type": "markdown",
   "metadata": {},
   "source": [
    "4. Do you have experience with/knowledge about **machine learning**?\n",
    "(Choose one of the following: None - Beginner - Advanced)"
   ]
  },
  {
   "cell_type": "raw",
   "metadata": {},
   "source": []
  },
  {
   "cell_type": "markdown",
   "metadata": {},
   "source": [
    "5. Do you have experience with/knowledge about **Q-learning**?\n",
    "(Choose one of the following: None - Beginner - Advanced)"
   ]
  },
  {
   "cell_type": "raw",
   "metadata": {},
   "source": []
  },
  {
   "cell_type": "markdown",
   "metadata": {},
   "source": [
    "6. Do you have experience with/knowledge about **economics**?\n",
    "(Choose one of the following: None - Beginner - Advanced)"
   ]
  },
  {
   "cell_type": "raw",
   "metadata": {},
   "source": []
  },
  {
   "cell_type": "markdown",
   "metadata": {},
   "source": [
    "7. Do you have experience with/knowledge about the **Bertrand market model**?\n",
    "(Choose one of the following: None - Beginner - Advanced)"
   ]
  },
  {
   "cell_type": "raw",
   "metadata": {},
   "source": []
  },
  {
   "cell_type": "markdown",
   "metadata": {},
   "source": [
    "Thank you for participating in this experiment."
   ]
  }
 ],
 "metadata": {
  "kernelspec": {
   "display_name": "Python 3",
   "language": "python",
   "name": "python3"
  },
  "language_info": {
   "codemirror_mode": {
    "name": "ipython",
    "version": 3
   },
   "file_extension": ".py",
   "mimetype": "text/x-python",
   "name": "python",
   "nbconvert_exporter": "python",
   "pygments_lexer": "ipython3",
   "version": "3.8.5"
  }
 },
 "nbformat": 4,
 "nbformat_minor": 4
}
