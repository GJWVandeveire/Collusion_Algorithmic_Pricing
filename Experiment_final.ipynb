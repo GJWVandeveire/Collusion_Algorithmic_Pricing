{
 "cells": [
  {
   "cell_type": "markdown",
   "metadata": {},
   "source": [
    "### Prepare experiment (for conductor only)"
   ]
  },
  {
   "cell_type": "code",
   "execution_count": 1,
   "metadata": {},
   "outputs": [],
   "source": [
    "# import packages\n",
    "\n",
    "import numpy as np\n",
    "import random\n",
    "\n",
    "# load final q-table\n",
    "\n",
    "q_table = np.load('final_q_table_example.npy')"
   ]
  },
  {
   "cell_type": "code",
   "execution_count": 2,
   "metadata": {},
   "outputs": [],
   "source": [
    "# create function with best response output\n",
    "\n",
    "def experiment(player_price, state):\n",
    "        \n",
    "    #algorithm\n",
    "    algo_action = np.argmax(q_table[state]) # choose action based on previous state\n",
    "    algo_price = algo_action + 6 # calculate price based on action\n",
    "    algo_profit = algo_price*(15 - (2*algo_price) + (1.5*player_price)) # calculate profit based on demand function\n",
    "    \n",
    "    #player\n",
    "    player_q = 15 - (2*player_price) + (1.5*algo_price) # demand function\n",
    "    player_profit =  player_price*player_q # profit based on demand function\n",
    "    \n",
    "    # add to list of profits\n",
    "    algo_profits.append(algo_profit)\n",
    "    player_profits.append(player_profit)\n",
    "    \n",
    "    # add to list of going prices\n",
    "    player_prices.append(player_price)\n",
    "    algo_prices.append(algo_price)\n",
    "    \n",
    "    # calculate total profits\n",
    "    total_profit_algo = np.sum(algo_profits)\n",
    "    total_profit_player = np.sum(player_profits)\n",
    "    \n",
    "    #determine next state\n",
    "    if algo_price == 6 and player_price == 6:\n",
    "        state = 0\n",
    "    elif algo_price == 6 and player_price == 7:\n",
    "        state = 1\n",
    "    elif algo_price == 6 and player_price == 8:\n",
    "        state = 2\n",
    "    elif algo_price == 7 and player_price == 6:\n",
    "        state = 3\n",
    "    elif algo_price == 7 and player_price == 7:\n",
    "        state = 4\n",
    "    elif algo_price == 7 and player_price == 8:\n",
    "        state = 5\n",
    "    elif algo_price == 8 and player_price == 6:\n",
    "        state = 6\n",
    "    elif algo_price == 8 and player_price == 7:\n",
    "        state = 7\n",
    "    elif algo_price == 8 and player_price == 8:\n",
    "        state = 8\n",
    "\n",
    "    return  print('You sold {} kg at {} euro/kg.\\n \\nThis round: \\nYour price: {} | Competitor price: {} \\nYour profit: {} | Competitor profit: {}\\n \\nTotal: \\nYour total profit: {} | Competitor total profit: {} \\n\\nFill in the following state {}, in the next round like this: Experiment(*your price*, {})'.format(player_q, player_price, player_price, algo_price, player_profit, algo_profit, total_profit_player, total_profit_algo, state, state))"
   ]
  },
  {
   "cell_type": "code",
   "execution_count": 3,
   "metadata": {},
   "outputs": [],
   "source": [
    "# placeholder for profits\n",
    "player_profits = [] # global to run outside of this function\n",
    "algo_profits = []\n",
    "    \n",
    "# placeholder for prices\n",
    "player_prices = []\n",
    "algo_prices = []"
   ]
  },
  {
   "cell_type": "code",
   "execution_count": 4,
   "metadata": {},
   "outputs": [],
   "source": [
    "# create function to reset\n",
    "\n",
    "def start_experiment():\n",
    "    # initialize random start state\n",
    "    state = random.randint(0,8)\n",
    "    \n",
    "    # reset placeholder for profits\n",
    "    player_profits = []\n",
    "    algo_profits = []\n",
    "    \n",
    "    # reset placeholder for prices\n",
    "    player_prices = []\n",
    "    algo_prices = []\n",
    "    \n",
    "    # print start state\n",
    "    print('You ran this code and started the experiment successfully.')\n",
    "    print('Use this state for the first round only: {}'.format(state))"
   ]
  },
  {
   "cell_type": "code",
   "execution_count": 5,
   "metadata": {},
   "outputs": [],
   "source": [
    "# create function to print results\n",
    "\n",
    "def final_results():\n",
    "    print('Your prices: {}'.format(player_prices))\n",
    "    print('Your profits: {}'.format(player_profits))\n",
    "    print('Your total profit: {}'.format(np.sum(player_profits)))\n",
    "    print('Competitor prices: {}'.format(algo_prices))\n",
    "    print('Competitor profits: {}'.format(algo_profits))\n",
    "    print('Competitor total profit: {}'.format(np.sum(algo_profits)))"
   ]
  },
  {
   "cell_type": "code",
   "execution_count": 6,
   "metadata": {},
   "outputs": [],
   "source": [
    "# create function to save results\n",
    "\n",
    "def save_results():\n",
    "    np.save('participant_profits_example', player_profits)\n",
    "    np.save('participant_prices_example', player_prices)\n",
    "    np.save('participant_profits_comp_example', algo_profits)\n",
    "    np.save('participant_prices_comp_example', algo_prices)"
   ]
  },
  {
   "cell_type": "markdown",
   "metadata": {},
   "source": [
    "### Intro experiment (for participants)"
   ]
  },
  {
   "cell_type": "markdown",
   "metadata": {},
   "source": [
    "*Code of conduct*\n",
    "\n",
    "Thank you for participating in this experiment. This study is conducted by Gert Vandeveire, under leading supervision of Cedric Argenton, and commissioned by Tilburg University. All data will be stored anonymously and used for this research only.\n",
    "\n",
    "By continuing with this experiment, you comply with the following statements:\n",
    "1. I agree to participate in this experiment voluntarily.\n",
    "2. I give permission to the researcher to store and analyze my data anonymously.\n",
    "3. I am aware that I can stop this research at any given time.\n",
    "\n",
    "Type \"yes\" in the box below if you have read and agreed with the statements above."
   ]
  },
  {
   "cell_type": "raw",
   "metadata": {},
   "source": []
  },
  {
   "cell_type": "markdown",
   "metadata": {},
   "source": [
    "###  Test round experiment"
   ]
  },
  {
   "cell_type": "markdown",
   "metadata": {},
   "source": [
    "Thank you for participating in this experiment. This experiment will take place in this Jupyter notebook using Python 3. You don't need to understand or have any experience with these tools. The only thing you need to know is how to run a cell and look at the output it produces. The 'start_experiment' cell below is filled out, but still needs to be run. Run the cell below by **selecting the cell** and pressing **ctrl + enter** or the **&#9658; Run** icon in the toolbar. You don't need to change the input."
   ]
  },
  {
   "cell_type": "code",
   "execution_count": null,
   "metadata": {},
   "outputs": [],
   "source": [
    "start_experiment()"
   ]
  },
  {
   "cell_type": "markdown",
   "metadata": {},
   "source": [
    "Now you know how to run a cell, on to the specifics. \n",
    "\n",
    "In this experiment you will **participate in a market as a supplier of a good**. The market consists of 2 suppliers: you and a competitor. Each of you can influence the market by **choosing a price** (the competitor will do so based on an algorithm we have designed for you). \n",
    "\n",
    "During 20 rounds, you will be given the option to choose one of three prices: 6 euros, 7 euros or 8 euros. Every time you do so, **the market will go to a new state for the next round** (states range from 0 to 8). This 'state' is what the market looks like going in the next round. You simply have to take it with you into the next round. You can choose a price by typing your price \"6\", \"7\" or \"8\" between the brackets in experiment(), followed by a comma and the state given. \n",
    "\n",
    "Try it below with state 5, for example: experiment(6,5)"
   ]
  },
  {
   "cell_type": "code",
   "execution_count": null,
   "metadata": {},
   "outputs": [],
   "source": [
    "experiment()"
   ]
  },
  {
   "cell_type": "markdown",
   "metadata": {},
   "source": [
    "<div class=\"alert alert-block alert-danger\">\n",
    "<b>Caution:</b> Run the cell only once! If you ran the cell twice by accident, the experiment has been influenced by the wrong state. Please let the conductor know when this happens.\n",
    "</div>"
   ]
  },
  {
   "cell_type": "markdown",
   "metadata": {},
   "source": [
    "As you can see, the system returns the following info after every round:\n",
    "- Your price and your competitor's price\n",
    "- Your profit and your competitor's profit\n",
    "- Total profits\n",
    "- An **obligatory next state** for you to fill in, in the next round\n",
    "\n",
    "Choose a price and use this obligatory state in the output to run the next round: **experiment(*price*, *state*)**"
   ]
  },
  {
   "cell_type": "code",
   "execution_count": null,
   "metadata": {},
   "outputs": [],
   "source": [
    "experiment()"
   ]
  },
  {
   "cell_type": "markdown",
   "metadata": {},
   "source": [
    "Your goal is to **maximize your profit** over 20 rounds, which will depend on your price, your opponent's price, your quantity sold and your opponent's quantity sold. The quantities are determined by the following demand curves: <br>\n",
    "\n",
    "$q_1 = 15 - 2p_1 + 1.5p_2$ <br>\n",
    "$q_2 = 15 - 2p_2 + 1.5p_1$ <br>\n",
    "\n",
    "You don't need to be an economist or do complex calculations. For your convenience, we have calculated the profits for every combined choice and presented in the payoff matrix below:\n",
    "\n",
    "payoff matrix|6|7|8\n",
    "-|-|-|-\n",
    "6|72|81|90\n",
    "7|70|80.5|91\n",
    "8|64|76|88\n",
    "\n",
    "How to interpret this payoff matrix?\n",
    "- 6,7 and 8 on the **y-axis** are your prices chosen.\n",
    "- 6,7 and 8 on the **x-axis** (in bold) are your competitor's prices.\n",
    "- The numbers in the matrix are **your profit** when the players choose the combination shown.\n",
    "\n",
    "Now, try again with this in mind. Scroll up to find the state in the previous output."
   ]
  },
  {
   "cell_type": "code",
   "execution_count": null,
   "metadata": {},
   "outputs": [],
   "source": [
    "experiment()"
   ]
  },
  {
   "cell_type": "markdown",
   "metadata": {},
   "source": [
    "<div class=\"alert alert-block alert-info\">\n",
    "<b>Tip:</b> Keep in mind that the competitor will also try to maximize its profit (and has the same payoff function), based on the information given.\n",
    "</div>"
   ]
  },
  {
   "cell_type": "code",
   "execution_count": null,
   "metadata": {},
   "outputs": [],
   "source": [
    "experiment()"
   ]
  },
  {
   "cell_type": "markdown",
   "metadata": {},
   "source": [
    "You have successfully completed the test round. Check your final results by running the cell below."
   ]
  },
  {
   "cell_type": "code",
   "execution_count": null,
   "metadata": {
    "scrolled": true
   },
   "outputs": [],
   "source": [
    "final_results()"
   ]
  },
  {
   "cell_type": "markdown",
   "metadata": {},
   "source": [
    "<div class=\"alert alert-block alert-warning\">\n",
    "<b>Leaderboard:</b> Your total profit will be added to the leaderboard anonymously (e.g.: \"participant 23\"). You can access the leaderboard after you finish to check how you compare to the other participants.\n",
    "</div>"
   ]
  },
  {
   "cell_type": "markdown",
   "metadata": {},
   "source": [
    "### Start experiment"
   ]
  },
  {
   "cell_type": "markdown",
   "metadata": {},
   "source": [
    "<div class=\"alert alert-block alert-info\">\n",
    "<b>Remember:</b> The y-axis is your price, the x-axis is your competitor's price.\n",
    "    </div>\n",
    "    \n",
    "payoff matrix|6|7|8\n",
    "-|-|-|-\n",
    "6|72|81|90\n",
    "7|70|80.5|91\n",
    "8|64|76|88"
   ]
  },
  {
   "cell_type": "markdown",
   "metadata": {},
   "source": [
    "Start the experiment by running the code below."
   ]
  },
  {
   "cell_type": "code",
   "execution_count": null,
   "metadata": {},
   "outputs": [],
   "source": [
    "start_experiment()"
   ]
  },
  {
   "cell_type": "markdown",
   "metadata": {},
   "source": [
    "Round 1"
   ]
  },
  {
   "cell_type": "code",
   "execution_count": null,
   "metadata": {
    "scrolled": false
   },
   "outputs": [],
   "source": [
    "experiment()"
   ]
  },
  {
   "cell_type": "markdown",
   "metadata": {},
   "source": [
    "Round 2"
   ]
  },
  {
   "cell_type": "code",
   "execution_count": null,
   "metadata": {},
   "outputs": [],
   "source": [
    "experiment()"
   ]
  },
  {
   "cell_type": "markdown",
   "metadata": {},
   "source": [
    "Round 3"
   ]
  },
  {
   "cell_type": "code",
   "execution_count": null,
   "metadata": {},
   "outputs": [],
   "source": [
    "experiment()"
   ]
  },
  {
   "cell_type": "markdown",
   "metadata": {},
   "source": [
    "Round 4"
   ]
  },
  {
   "cell_type": "code",
   "execution_count": null,
   "metadata": {},
   "outputs": [],
   "source": [
    "experiment()"
   ]
  },
  {
   "cell_type": "markdown",
   "metadata": {},
   "source": [
    "Round 5"
   ]
  },
  {
   "cell_type": "code",
   "execution_count": null,
   "metadata": {},
   "outputs": [],
   "source": [
    "experiment()"
   ]
  },
  {
   "cell_type": "markdown",
   "metadata": {},
   "source": [
    "Round 6"
   ]
  },
  {
   "cell_type": "code",
   "execution_count": null,
   "metadata": {},
   "outputs": [],
   "source": [
    "experiment()"
   ]
  },
  {
   "cell_type": "markdown",
   "metadata": {},
   "source": [
    "Round 7"
   ]
  },
  {
   "cell_type": "code",
   "execution_count": null,
   "metadata": {},
   "outputs": [],
   "source": [
    "experiment()"
   ]
  },
  {
   "cell_type": "markdown",
   "metadata": {},
   "source": [
    "Round 8"
   ]
  },
  {
   "cell_type": "code",
   "execution_count": null,
   "metadata": {},
   "outputs": [],
   "source": [
    "experiment()"
   ]
  },
  {
   "cell_type": "markdown",
   "metadata": {},
   "source": [
    "Round 9"
   ]
  },
  {
   "cell_type": "code",
   "execution_count": null,
   "metadata": {},
   "outputs": [],
   "source": [
    "experiment()"
   ]
  },
  {
   "cell_type": "markdown",
   "metadata": {},
   "source": [
    "Round 10"
   ]
  },
  {
   "cell_type": "code",
   "execution_count": null,
   "metadata": {},
   "outputs": [],
   "source": [
    "experiment()"
   ]
  },
  {
   "cell_type": "markdown",
   "metadata": {},
   "source": [
    "<div class=\"alert alert-block alert-info\">\n",
    "<b>Remember:</b> The y-axis is your price, the x-axis is your competitor's price.\n",
    "    </div>\n",
    "\n",
    "payoff matrix|6|7|8\n",
    "-|-|-|-\n",
    "6|72|81|90\n",
    "7|70|80.5|91\n",
    "8|64|76|88\n",
    "    \n"
   ]
  },
  {
   "cell_type": "markdown",
   "metadata": {},
   "source": [
    "Round 11"
   ]
  },
  {
   "cell_type": "code",
   "execution_count": null,
   "metadata": {},
   "outputs": [],
   "source": [
    "experiment()"
   ]
  },
  {
   "cell_type": "markdown",
   "metadata": {},
   "source": [
    "Round 12"
   ]
  },
  {
   "cell_type": "code",
   "execution_count": null,
   "metadata": {},
   "outputs": [],
   "source": [
    "experiment()"
   ]
  },
  {
   "cell_type": "markdown",
   "metadata": {},
   "source": [
    "Round 13"
   ]
  },
  {
   "cell_type": "code",
   "execution_count": null,
   "metadata": {},
   "outputs": [],
   "source": [
    "experiment()"
   ]
  },
  {
   "cell_type": "markdown",
   "metadata": {},
   "source": [
    "Round 14"
   ]
  },
  {
   "cell_type": "code",
   "execution_count": null,
   "metadata": {},
   "outputs": [],
   "source": [
    "experiment()"
   ]
  },
  {
   "cell_type": "markdown",
   "metadata": {},
   "source": [
    "Round 15"
   ]
  },
  {
   "cell_type": "code",
   "execution_count": null,
   "metadata": {},
   "outputs": [],
   "source": [
    "experiment()"
   ]
  },
  {
   "cell_type": "markdown",
   "metadata": {},
   "source": [
    "Round 16"
   ]
  },
  {
   "cell_type": "code",
   "execution_count": null,
   "metadata": {},
   "outputs": [],
   "source": [
    "experiment()"
   ]
  },
  {
   "cell_type": "markdown",
   "metadata": {},
   "source": [
    "Round 17"
   ]
  },
  {
   "cell_type": "code",
   "execution_count": null,
   "metadata": {},
   "outputs": [],
   "source": [
    "experiment()"
   ]
  },
  {
   "cell_type": "markdown",
   "metadata": {},
   "source": [
    "Round 18"
   ]
  },
  {
   "cell_type": "code",
   "execution_count": null,
   "metadata": {},
   "outputs": [],
   "source": [
    "experiment()"
   ]
  },
  {
   "cell_type": "markdown",
   "metadata": {},
   "source": [
    "Round 19"
   ]
  },
  {
   "cell_type": "code",
   "execution_count": null,
   "metadata": {},
   "outputs": [],
   "source": [
    "experiment()"
   ]
  },
  {
   "cell_type": "markdown",
   "metadata": {},
   "source": [
    "Round 20"
   ]
  },
  {
   "cell_type": "code",
   "execution_count": null,
   "metadata": {
    "scrolled": true
   },
   "outputs": [],
   "source": [
    "experiment()"
   ]
  },
  {
   "cell_type": "markdown",
   "metadata": {},
   "source": [
    "Run the following code without changing anything:"
   ]
  },
  {
   "cell_type": "code",
   "execution_count": null,
   "metadata": {},
   "outputs": [],
   "source": [
    "final_results()"
   ]
  },
  {
   "cell_type": "markdown",
   "metadata": {},
   "source": [
    "To conclude, please fill in the following questions:"
   ]
  },
  {
   "cell_type": "markdown",
   "metadata": {},
   "source": [
    "1. What is your age?"
   ]
  },
  {
   "cell_type": "raw",
   "metadata": {},
   "source": []
  },
  {
   "cell_type": "markdown",
   "metadata": {},
   "source": [
    "2. What is your gender? (Choose one of the following: Male - Female - Prefer not to say)"
   ]
  },
  {
   "cell_type": "raw",
   "metadata": {},
   "source": []
  },
  {
   "cell_type": "markdown",
   "metadata": {},
   "source": [
    "3. What is the highest achieved level of education you have completed? <br> (Choose one of the following: None - Secondary Degree (high school) - Associate's Degree - Bachelor's Degree - Master's Degree - PhD)"
   ]
  },
  {
   "cell_type": "raw",
   "metadata": {},
   "source": []
  },
  {
   "cell_type": "markdown",
   "metadata": {},
   "source": [
    "4. Do you have experience with/knowledge about **machine learning**?\n",
    "(Choose one of the following: None - Beginner - Advanced)"
   ]
  },
  {
   "cell_type": "raw",
   "metadata": {},
   "source": []
  },
  {
   "cell_type": "markdown",
   "metadata": {},
   "source": [
    "5. Do you have experience with/knowledge about **Q-learning**?\n",
    "(Choose one of the following: None - Beginner - Advanced)"
   ]
  },
  {
   "cell_type": "raw",
   "metadata": {},
   "source": []
  },
  {
   "cell_type": "markdown",
   "metadata": {},
   "source": [
    "6. Do you have experience with/knowledge about **economics**?\n",
    "(Choose one of the following: None - Beginner - Advanced)"
   ]
  },
  {
   "cell_type": "raw",
   "metadata": {},
   "source": []
  },
  {
   "cell_type": "markdown",
   "metadata": {},
   "source": [
    "7. Do you have experience with/knowledge about the **Bertrand market model**?\n",
    "(Choose one of the following: None - Beginner - Advanced)"
   ]
  },
  {
   "cell_type": "raw",
   "metadata": {},
   "source": []
  },
  {
   "cell_type": "markdown",
   "metadata": {},
   "source": [
    "Thank you for participating in this experiment. You can compare to the results of other participants, via the leaderboard, by running the code below."
   ]
  },
  {
   "cell_type": "code",
   "execution_count": null,
   "metadata": {
    "scrolled": true
   },
   "outputs": [],
   "source": [
    "save_results()"
   ]
  }
 ],
 "metadata": {
  "kernelspec": {
   "display_name": "Python 3",
   "language": "python",
   "name": "python3"
  },
  "language_info": {
   "codemirror_mode": {
    "name": "ipython",
    "version": 3
   },
   "file_extension": ".py",
   "mimetype": "text/x-python",
   "name": "python",
   "nbconvert_exporter": "python",
   "pygments_lexer": "ipython3",
   "version": "3.8.5"
  }
 },
 "nbformat": 4,
 "nbformat_minor": 4
}
