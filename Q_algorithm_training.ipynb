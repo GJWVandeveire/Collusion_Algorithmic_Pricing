{
 "cells": [
  {
   "cell_type": "markdown",
   "metadata": {},
   "source": [
    "### Import packages"
   ]
  },
  {
   "cell_type": "code",
   "execution_count": 1,
   "metadata": {},
   "outputs": [],
   "source": [
    "import numpy as np\n",
    "import random\n",
    "from matplotlib import pyplot as plt\n",
    "import numpy as np\n",
    "import pandas as pd\n",
    "from gym import Env\n",
    "from gym.spaces import Discrete\n",
    "import random\n",
    "from IPython.display import clear_output"
   ]
  },
  {
   "cell_type": "markdown",
   "metadata": {},
   "source": [
    "### Create environment"
   ]
  },
  {
   "cell_type": "code",
   "execution_count": 2,
   "metadata": {},
   "outputs": [],
   "source": [
    "class BertrandEnv():\n",
    "    \n",
    "    def __init__(self):\n",
    "        self.action_space = Discrete(3) # 3 choices\n",
    "        self.observation_space = Discrete(9) # 9 states\n",
    "        self.state = random.randint(0,8) # start with random state\n",
    "        self.periods = 20 # periods starts at 20 (will be reduced by one after every step)\n",
    "        \n",
    "    def step(self, action1, action2): #action1 = own price setting, action2 = competitor price setting\n",
    "              \n",
    "        #adjusting state based on action manually\n",
    "        if action1 == 0 and action2 == 0:\n",
    "            self.state = 0 # codes for states from 0 to 8\n",
    "        elif action1 == 0 and action2 == 1:\n",
    "            self.state = 1\n",
    "        elif action1 == 0 and action2 == 2:\n",
    "            self.state = 2\n",
    "        elif action1 == 1 and action2 == 0:\n",
    "            self.state = 3\n",
    "        elif action1 == 1 and action2 == 1:\n",
    "            self.state = 4\n",
    "        elif action1 == 1 and action2 == 2:\n",
    "            self.state = 5\n",
    "        elif action1 == 2 and action2 == 0:\n",
    "            self.state = 6\n",
    "        elif action1 == 2 and action2 == 1:\n",
    "            self.state = 7\n",
    "        elif action1 == 2 and action2 == 2:\n",
    "            self.state = 8        \n",
    "        \n",
    "        #discount 1 period\n",
    "        self.periods -= 1 # reduce periods by 1 for every step\n",
    "        \n",
    "        #defining price for each action, to calculate rewards in every round\n",
    "        if action1 == 0:\n",
    "            set_price = 6\n",
    "        elif action1 == 1:\n",
    "            set_price = 7\n",
    "        elif action1 == 2:\n",
    "            set_price = 8\n",
    "            \n",
    "        if action2 == 0:\n",
    "            comp_price = 6\n",
    "        elif action2 == 1:\n",
    "            comp_price = 7\n",
    "        elif action2 == 2:\n",
    "            comp_price = 8\n",
    "        \n",
    "        # Calculating the rewards\n",
    "        # differentiated bertrand model w/ inverse demand curves: q1 = 15 - 2p1 + 1.5p2 and q2 = 15 - 2p2 + 1.5p1\n",
    "        \n",
    "        reward1 = set_price*(15 - (2*set_price) + (1.5*comp_price)) # p1 * q1\n",
    "        reward2 = comp_price*(15 - (2*comp_price) + (1.5*set_price)) # demand curve for both players is the same\n",
    "        \n",
    "        # Checking if periods are over\n",
    "        if self.periods <= 0: # if period has been reduced 20 times, done = true\n",
    "            done = True\n",
    "        else:\n",
    "            done = False\n",
    "        \n",
    "        \n",
    "        # Returning the step information\n",
    "        return self.state, reward1, reward2, done\n",
    "    \n",
    "    def reset(self): # similar to __init__\n",
    "        self.state = random.randint(0,8) #restart with random state\n",
    "        self.periods = 20 # restart for another 20 periods\n",
    "        return self.state"
   ]
  },
  {
   "cell_type": "code",
   "execution_count": 3,
   "metadata": {},
   "outputs": [],
   "source": [
    "env = BertrandEnv()"
   ]
  },
  {
   "cell_type": "code",
   "execution_count": 4,
   "metadata": {
    "scrolled": false
   },
   "outputs": [
    {
     "name": "stdout",
     "output_type": "stream",
     "text": [
      "Episode:1 Profit:1636.5 Profit competitor:1539.5\n",
      "Episode:2 Profit:3140.0 Profit competitor:3162.0\n",
      "Episode:3 Profit:4755.0 Profit competitor:4718.0\n",
      "Episode:4 Profit:6379.5 Profit competitor:6275.5\n",
      "Episode:5 Profit:8004.5 Profit competitor:7889.5\n",
      "Episode:6 Profit:9545.0 Profit competitor:9519.0\n",
      "Episode:7 Profit:11130.0 Profit competitor:11041.0\n",
      "Episode:8 Profit:12650.0 Profit competitor:12654.0\n",
      "Episode:9 Profit:14168.5 Profit competitor:14280.5\n",
      "Episode:10 Profit:15779.0 Profit competitor:15835.0\n"
     ]
    }
   ],
   "source": [
    "#test environment\n",
    "\n",
    "profit1 = 0\n",
    "profit2 = 0\n",
    "\n",
    "episodes = 10 #10 times of setting price 20 times\n",
    "for episode in range(1, episodes+1):\n",
    "    state = env.reset()\n",
    "    done = False\n",
    " \n",
    "    while not done:\n",
    "        action1 = env.action_space.sample()\n",
    "        action2 = env.action_space.sample()\n",
    "        n_state, reward1, reward2, done = env.step(action1, action2)\n",
    "        profit1 += reward1\n",
    "        profit2 += reward2\n",
    "    print('Episode:{} Profit:{} Profit competitor:{}'.format(episode, profit1, profit2)) #shows total profit of 1 episode"
   ]
  },
  {
   "cell_type": "markdown",
   "metadata": {},
   "source": [
    "### Q-learning algorithm"
   ]
  },
  {
   "cell_type": "code",
   "execution_count": 5,
   "metadata": {
    "scrolled": false
   },
   "outputs": [
    {
     "data": {
      "text/plain": [
       "0.13397967485796172"
      ]
     },
     "execution_count": 5,
     "metadata": {},
     "output_type": "execute_result"
    }
   ],
   "source": [
    "# parameters\n",
    "alpha = 0.1 # learning rate, 0.1 usually used in computer science (Calvano, 2020)\n",
    "\n",
    "gamma = 0.9 # between 0.8 and 0.99\n",
    "    # if 0, values in final q-table should be in range of payoff matrix\n",
    "    # if 1, evaluates total profit\n",
    "    # should be high, because we look at long term\n",
    "    \n",
    "beta = 0.002 # parameter for diminishing epsilon rate\n",
    "    \n",
    "epsilon1 = 0.99 # initial exploration - exploitation rate\n",
    "epsilon2 = 0.99\n",
    "\n",
    "# create placeholder for cumulative rewards\n",
    "profit1 = 0\n",
    "profit2 = 0\n",
    "\n",
    "#initialize Q-tables\n",
    "q_table1 = np.zeros([env.observation_space.n, env.action_space.n])\n",
    "q_table2 = np.zeros([env.observation_space.n, env.action_space.n]) # caution: transposed q-table\n",
    "# check epsilon rate after 100 000 episodes\n",
    "epsilon1**(beta*100000)"
   ]
  },
  {
   "cell_type": "code",
   "execution_count": 6,
   "metadata": {
    "scrolled": true
   },
   "outputs": [
    {
     "name": "stdout",
     "output_type": "stream",
     "text": [
      "Episode: 500000\n",
      "Training is done!\n",
      "\n"
     ]
    }
   ],
   "source": [
    "#set amount of training episodes\n",
    "num_of_episodes = 500000\n",
    "    \n",
    "# placeholder to append total episode reward\n",
    "episode_rewards1 = []\n",
    "episode_rewards2 = []\n",
    "\n",
    "#for loop on environment\n",
    "for episode in range(0, num_of_episodes):\n",
    "    \n",
    "    # Reset the enviroment\n",
    "    state = env.reset()\n",
    "    \n",
    "    # reset episode reward to 0\n",
    "    ep_reward1 = 0\n",
    "    ep_reward2 = 0\n",
    "\n",
    "    # Initialize variables\n",
    "    done = False\n",
    "    \n",
    "    while not done:\n",
    "        \n",
    "        # epsilon based policy: exploring or choosing max from state\n",
    "        if random.uniform(0, 1) < epsilon1**(beta*episode): # epsilon decreased based on number of episode\n",
    "            action1 = env.action_space.sample()\n",
    "        else:\n",
    "            action1 = np.argmax(q_table1[state])\n",
    "            \n",
    "        #same for player 2\n",
    "        if random.uniform(0, 1) < epsilon2**(beta*episode):\n",
    "            action2 = env.action_space.sample()\n",
    "        else:\n",
    "            action2 = np.argmax(q_table2[state])\n",
    "\n",
    "        # take action and transition to next state\n",
    "        n_state, reward1, reward2, done = env.step(action1, action2) #step function needs input of both 1 and 2\n",
    "        \n",
    "        # add reward to cumulative reward (=profit)\n",
    "        profit1 += reward1\n",
    "        profit2 += reward2\n",
    "        \n",
    "        # add reward to episode reward\n",
    "        ep_reward1 += reward1\n",
    "        ep_reward2 += reward2\n",
    "        \n",
    "        # recalculate\n",
    "        q_value1 = q_table1[state, action1]\n",
    "        max_value1 = np.max(q_table1[n_state])\n",
    "        new_q_value1 = (1 - alpha) * q_value1 + alpha * (reward1 + gamma * max_value1) # theory\n",
    "        \n",
    "        q_value2 = q_table2[state, action2]\n",
    "        max_value2 = np.max(q_table2[n_state])\n",
    "        new_q_value2 = (1 - alpha) * q_value2 + alpha * (reward2 + gamma * max_value2)\n",
    "        \n",
    "        # update rule for Q-table\n",
    "        q_table1[state, action1] = new_q_value1\n",
    "        q_table2[state, action2] = new_q_value2\n",
    "        state = n_state\n",
    "        \n",
    "    # append reward of episode to list of episode rewards\n",
    "    episode_rewards1.append(ep_reward1)\n",
    "    episode_rewards2.append(ep_reward2)\n",
    "    \n",
    "    # printing output every 100 episodes\n",
    "    if (episode + 1) % 100 == 0: # = at every 100 episodes\n",
    "        clear_output(wait=True)\n",
    "        print(\"Episode: {}\".format(episode + 1))\n",
    "\n",
    "\n",
    "print(\"Training is done!\\n\")"
   ]
  },
  {
   "cell_type": "code",
   "execution_count": 7,
   "metadata": {},
   "outputs": [
    {
     "data": {
      "image/png": "[encoded data removed]",
      "text/plain": [
       "<Figure size 432x288 with 1 Axes>"
      ]
     },
     "metadata": {
      "needs_background": "light"
     },
     "output_type": "display_data"
    }
   ],
   "source": [
    "# use episode rewards to check evolution over episodes\n",
    "plt.plot(pd.Series(episode_rewards1).rolling(1000).mean())\n",
    "plt.plot(pd.Series(episode_rewards2).rolling(1000).mean());"
   ]
  },
  {
   "cell_type": "code",
   "execution_count": 8,
   "metadata": {
    "scrolled": true
   },
   "outputs": [
    {
     "name": "stdout",
     "output_type": "stream",
     "text": [
      "[[ 5.94407355e-03  4.52282849e-02 -2.30598376e-05]\n",
      " [-7.18002632e-02  1.66056952e-01  1.11379011e-01]\n",
      " [-3.65726160e-02  1.14653108e-02  1.85460106e-01]\n",
      " [-9.47445038e-02  2.32115629e-01  3.00526125e-02]\n",
      " [-4.60935183e-02  4.15045546e-01  7.65800155e-01]\n",
      " [-5.07895884e-02 -4.83256679e-01  1.31856522e+00]\n",
      " [-4.65686461e-02 -8.74457558e-02  3.00956086e-01]\n",
      " [-8.31794078e-03  3.18196929e-01 -7.36903014e-01]\n",
      " [ 1.85243986e-03 -2.43046552e-02 -1.36083145e-10]]\n",
      "[2 0 0 0 0 0 0 0 2]\n",
      "[2 0 0 0 0 0 0 0 2]\n",
      "8\n"
     ]
    }
   ],
   "source": [
    "# set states for both q-tables up for comparison\n",
    "q_table2_eq = q_table2\n",
    "q_table2_eq[[0,1,2,3,4,5,6,7,8]] = q_table2[[0,3,6,1,4,7,2,5,8]] # states in first q-table are set up in 000111222 actions\n",
    "                                                                    # and in second q-table are set up in 012012012 actions\n",
    "# compare values both q-tables\n",
    "diff_q = q_table2_eq - q_table1\n",
    "print(diff_q)\n",
    "\n",
    "# check best response to each state\n",
    "print(np.argmax(q_table1, axis=1))\n",
    "print(np.argmax(q_table2_eq, axis=1))\n",
    "\n",
    "# check latest state\n",
    "print(state)"
   ]
  },
  {
   "cell_type": "code",
   "execution_count": 9,
   "metadata": {},
   "outputs": [],
   "source": [
    "# save final q-table1 for experiment\n",
    "np.save('final_q_table_example', q_table1)\n",
    "np.save('final_state_example', state)"
   ]
  }
 ],
 "metadata": {
  "kernelspec": {
   "display_name": "Python 3",
   "language": "python",
   "name": "python3"
  },
  "language_info": {
   "codemirror_mode": {
    "name": "ipython",
    "version": 3
   },
   "file_extension": ".py",
   "mimetype": "text/x-python",
   "name": "python",
   "nbconvert_exporter": "python",
   "pygments_lexer": "ipython3",
   "version": "3.8.5"
  }
 },
 "nbformat": 4,
 "nbformat_minor": 4
}
