{
 "cells": [
  {
   "cell_type": "code",
   "execution_count": 1,
   "metadata": {},
   "outputs": [],
   "source": [
    "import numpy as np"
   ]
  },
  {
   "cell_type": "code",
   "execution_count": 2,
   "metadata": {},
   "outputs": [],
   "source": [
    "def payoff_matrix(p1, p2, p3, q_base, weight1, weight2):\n",
    "    a = p1*(q_base - (weight1*p1) + (weight2*p1))\n",
    "    b = p1*(q_base - (weight1*p1) + (weight2*p2))\n",
    "    c = p1*(q_base - (weight1*p1) + (weight2*p3))\n",
    "    d = p2*(q_base - (weight1*p2) + (weight2*p1))\n",
    "    e = p2*(q_base - (weight1*p2) + (weight2*p2))\n",
    "    f = p2*(q_base - (weight1*p2) + (weight2*p3))\n",
    "    g = p3*(q_base - (weight1*p3) + (weight2*p1))\n",
    "    h = p3*(q_base - (weight1*p3) + (weight2*p2))\n",
    "    i = p3*(q_base - (weight1*p3) + (weight2*p3))\n",
    "    return np.array([(a,b,c),(d,e,f),(g,h,i)])"
   ]
  },
  {
   "cell_type": "code",
   "execution_count": 3,
   "metadata": {},
   "outputs": [
    {
     "data": {
      "text/plain": [
       "array([[72. , 81. , 90. ],\n",
       "       [70. , 80.5, 91. ],\n",
       "       [64. , 76. , 88. ]])"
      ]
     },
     "execution_count": 3,
     "metadata": {},
     "output_type": "execute_result"
    }
   ],
   "source": [
    "payoff_matrix(6,7,8,15,2,1.5)"
   ]
  }
 ],
 "metadata": {
  "kernelspec": {
   "display_name": "Python 3",
   "language": "python",
   "name": "python3"
  },
  "language_info": {
   "codemirror_mode": {
    "name": "ipython",
    "version": 3
   },
   "file_extension": ".py",
   "mimetype": "text/x-python",
   "name": "python",
   "nbconvert_exporter": "python",
   "pygments_lexer": "ipython3",
   "version": "3.8.5"
  }
 },
 "nbformat": 4,
 "nbformat_minor": 4
}
