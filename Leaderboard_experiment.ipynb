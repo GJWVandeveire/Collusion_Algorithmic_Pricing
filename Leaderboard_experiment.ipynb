{
 "cells": [
  {
   "cell_type": "code",
   "execution_count": 1,
   "metadata": {},
   "outputs": [],
   "source": [
    "# import packages\n",
    "import numpy as np\n",
    "import pandas as pd"
   ]
  },
  {
   "cell_type": "code",
   "execution_count": 2,
   "metadata": {},
   "outputs": [],
   "source": [
    "# load profits\n",
    "\n",
    "participant1 = np.load('participant_profits1.npy')\n",
    "participant2 = np.load('participant_profits2.npy')\n",
    "participant3 = np.load('participant_profits3.npy')\n",
    "participant4 = np.load('participant_profits4.npy')\n",
    "participant5 = np.load('participant_profits5.npy')\n",
    "participant6 = np.load('participant_profits6.npy')\n",
    "participant7 = np.load('participant_profits7.npy')\n",
    "participant8 = np.load('participant_profits8.npy')\n",
    "participant9 = np.load('participant_profits9.npy')\n",
    "participant10 = np.load('participant_profits10.npy')\n",
    "participant11 = np.load('participant_profits11.npy')\n",
    "participant12 = np.load('participant_profits12.npy')\n",
    "participant13 = np.load('participant_profits13.npy')\n",
    "participant14 = np.load('participant_profits14.npy')\n",
    "participant15 = np.load('participant_profits15.npy')\n",
    "participant16 = np.load('participant_profits16.npy')\n",
    "participant17 = np.load('participant_profits17.npy')\n",
    "participant18 = np.load('participant_profits18.npy')\n",
    "participant19 = np.load('participant_profits19.npy')\n",
    "participant20 = np.load('participant_profits20.npy')\n",
    "participant21 = np.load('participant_profits21.npy')\n",
    "participant22 = np.load('participant_profits22.npy')\n",
    "participant23 = np.load('participant_profits23.npy')\n",
    "participant24 = np.load('participant_profits24.npy')\n",
    "participant25 = np.load('participant_profits25.npy')\n",
    "participant26 = np.load('participant_profits26.npy')\n",
    "participant27 = np.load('participant_profits27.npy')\n",
    "participant28 = np.load('participant_profits28.npy')\n",
    "participant29 = np.load('participant_profits29.npy')\n",
    "participant30 = np.load('participant_profits30.npy')"
   ]
  },
  {
   "cell_type": "code",
   "execution_count": 3,
   "metadata": {},
   "outputs": [],
   "source": [
    "# calculate total profits\n",
    "\n",
    "total_profit1 = np.sum(participant1)\n",
    "total_profit2 = np.sum(participant2)\n",
    "total_profit3 = np.sum(participant3)\n",
    "total_profit4 = np.sum(participant4)\n",
    "total_profit5 = np.sum(participant5)\n",
    "total_profit6 = np.sum(participant6)\n",
    "total_profit7 = np.sum(participant7)\n",
    "total_profit8 = np.sum(participant8)\n",
    "total_profit9 = np.sum(participant9)\n",
    "total_profit10 = np.sum(participant10)\n",
    "total_profit11 = np.sum(participant11)\n",
    "total_profit12 = np.sum(participant12)\n",
    "total_profit13 = np.sum(participant13)\n",
    "total_profit14 = np.sum(participant14)\n",
    "total_profit15 = np.sum(participant15)\n",
    "total_profit16 = np.sum(participant16)\n",
    "total_profit17 = np.sum(participant17)\n",
    "total_profit18 = np.sum(participant18)\n",
    "total_profit19 = np.sum(participant19)\n",
    "total_profit20 = np.sum(participant20)\n",
    "total_profit21 = np.sum(participant21)\n",
    "total_profit22 = np.sum(participant22)\n",
    "total_profit23 = np.sum(participant23)\n",
    "total_profit24 = np.sum(participant24)\n",
    "total_profit25 = np.sum(participant25)\n",
    "total_profit26 = np.sum(participant26)\n",
    "total_profit27 = np.sum(participant27)\n",
    "total_profit28 = np.sum(participant28)\n",
    "total_profit29 = np.sum(participant29)\n",
    "total_profit30 = np.sum(participant30)"
   ]
  },
  {
   "cell_type": "code",
   "execution_count": 4,
   "metadata": {
    "scrolled": false
   },
   "outputs": [
    {
     "name": "stdout",
     "output_type": "stream",
     "text": [
      "     Score\n",
      "18  1745.5\n",
      "10  1741.0\n",
      "9   1691.0\n",
      "6   1688.0\n",
      "4   1684.5\n",
      "12  1658.5\n",
      "3   1634.5\n",
      "23  1628.0\n",
      "8   1625.5\n",
      "29  1624.0\n",
      "26  1611.0\n",
      "27  1608.0\n",
      "22  1592.5\n",
      "5   1592.0\n",
      "15  1591.0\n",
      "30  1571.0\n",
      "19  1563.0\n",
      "1   1562.0\n",
      "14  1558.5\n",
      "25  1529.5\n",
      "13  1522.0\n",
      "20  1516.0\n",
      "21  1505.0\n",
      "28  1504.0\n",
      "2   1496.5\n",
      "11  1495.0\n",
      "7   1492.0\n",
      "16  1490.5\n",
      "24  1478.0\n",
      "17  1443.0\n",
      "0   1440.0\n"
     ]
    }
   ],
   "source": [
    "# make list for profits\n",
    "coll_profit = 88*20\n",
    "nash_profit = 72*20\n",
    "all_profits = [nash_profit, total_profit1, total_profit2, total_profit3, total_profit4, total_profit5, total_profit6, total_profit7, total_profit8, total_profit9, total_profit10, total_profit11, total_profit12, total_profit13, total_profit14, total_profit15, total_profit16, total_profit17, total_profit18, total_profit19, total_profit20, total_profit21, total_profit22, total_profit23, total_profit24, total_profit25, total_profit26, total_profit27, total_profit28, total_profit29, total_profit30]\n",
    "\n",
    "# create dataframe and sort profit values\n",
    "leaderboard = pd.DataFrame(np.transpose(all_profits), columns = ['Score'])\n",
    "leaderboard = leaderboard.sort_values('Score', ascending = False)\n",
    "\n",
    "# print leaderboard\n",
    "print(leaderboard)"
   ]
  }
 ],
 "metadata": {
  "kernelspec": {
   "display_name": "Python 3",
   "language": "python",
   "name": "python3"
  },
  "language_info": {
   "codemirror_mode": {
    "name": "ipython",
    "version": 3
   },
   "file_extension": ".py",
   "mimetype": "text/x-python",
   "name": "python",
   "nbconvert_exporter": "python",
   "pygments_lexer": "ipython3",
   "version": "3.8.5"
  }
 },
 "nbformat": 4,
 "nbformat_minor": 4
}
